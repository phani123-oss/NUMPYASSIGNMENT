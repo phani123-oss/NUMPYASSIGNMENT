{
 "cells": [
  {
   "cell_type": "code",
   "execution_count": null,
   "id": "b98d1032-7049-4139-a7da-d1d25df02df3",
   "metadata": {},
   "outputs": [],
   "source": [
    "#1. What is a Python library? Why ^o we use Python libraries?\n",
    "\n",
    "'''Python libraries are used to create applications and models in variety of fields.\n",
    "by using libraries we can manipulate data, we can show the data in visualisation\n",
    "format and by using numpy we can perform mathematical operations also.''"
   ]
  },
  {
   "cell_type": "code",
   "execution_count": null,
   "id": "239d5a5e-997f-4bf9-91e2-fe1362155d65",
   "metadata": {},
   "outputs": [],
   "source": [
    "#2. What is the ^ifference between Numpy array an^ List?\n",
    "\n",
    "'''Numpy arrays have homogeneous data type,make more compact memory efficient than list ,list \n",
    "contains heterogeneous data that means contains different data types.\n",
    "Fixed Data Type: NumPy arrays have a fixed data type, reducing memory overhead by eliminating \n",
    "the need to store type information for each element.'''"
   ]
  },
  {
   "cell_type": "code",
   "execution_count": 10,
   "id": "6899a6fd-0bb4-4157-acb0-dbfd7a54301f",
   "metadata": {},
   "outputs": [
    {
     "name": "stdout",
     "output_type": "stream",
     "text": [
      "Size of given array is: \n"
     ]
    },
    {
     "data": {
      "text/plain": [
       "12"
      ]
     },
     "execution_count": 10,
     "metadata": {},
     "output_type": "execute_result"
    }
   ],
   "source": [
    "#3. Fin^ the shape, size an^ ^imension of the following array?\n",
    "#given array\n",
    "arr = [[1, 2, 3, 4],[5, 6, 7, 8],[9, 10, 11, 12]]\n",
    "#importing numpy module as np\n",
    "import numpy as np\n",
    "#finding size by using size attribute\n",
    "print(\"Size of given array is: \")\n",
    "np.size(arr)"
   ]
  },
  {
   "cell_type": "code",
   "execution_count": 9,
   "id": "4a3764a1-9074-4f85-ad05-7afa25bc2a21",
   "metadata": {},
   "outputs": [
    {
     "name": "stdout",
     "output_type": "stream",
     "text": [
      "Shape of given array is: \n"
     ]
    },
    {
     "data": {
      "text/plain": [
       "(3, 4)"
      ]
     },
     "execution_count": 9,
     "metadata": {},
     "output_type": "execute_result"
    }
   ],
   "source": [
    "#finding shape using shape attribute\n",
    "print(\"Shape of given array is: \")\n",
    "np.shape(arr)"
   ]
  },
  {
   "cell_type": "code",
   "execution_count": 8,
   "id": "56ccf78b-457b-4367-97e1-54bf183eae78",
   "metadata": {},
   "outputs": [
    {
     "name": "stdout",
     "output_type": "stream",
     "text": [
      "Dimension of given array is: \n"
     ]
    },
    {
     "data": {
      "text/plain": [
       "2"
      ]
     },
     "execution_count": 8,
     "metadata": {},
     "output_type": "execute_result"
    }
   ],
   "source": [
    "#finding dimension using ndim\n",
    "print(\"Dimension of given array is: \")\n",
    "np.ndim(arr)"
   ]
  },
  {
   "cell_type": "code",
   "execution_count": 3,
   "id": "45a9a7e3-2463-43bd-853d-d35d85acc80f",
   "metadata": {},
   "outputs": [
    {
     "name": "stdout",
     "output_type": "stream",
     "text": [
      "[1, 2, 3, 4]\n"
     ]
    }
   ],
   "source": [
    "'''4. Write python co^e to access the first row of the following array?\n",
    "[[1, 2, 3, 4]\n",
    "[5, 6, 7, 8],\n",
    "[9, 10, 11, 12]]'''\n",
    "#importing \n",
    "import numpy as np\n",
    "#given array\n",
    "arr = [[1, 2, 3, 4],[5, 6, 7, 8],[9, 10, 11, 12]]\n",
    "#using index method like list to get first row\n",
    "#store that in x\n",
    "x = arr[0]\n",
    "#printing x\n",
    "print(x)"
   ]
  },
  {
   "cell_type": "code",
   "execution_count": 8,
   "id": "71bfe010-cb87-4bf9-8efe-aab9ace565ef",
   "metadata": {},
   "outputs": [
    {
     "name": "stdout",
     "output_type": "stream",
     "text": [
      "[[ 1  2  3  4]\n",
      " [ 5  6  7  8]\n",
      " [ 9 10 11 12]]\n",
      "Third row in given matrix is:  [9, 10, 11, 12]\n"
     ]
    }
   ],
   "source": [
    "'''5. How ^o you access the element at the thir^ row an^ fourth column from the given numpy array?\n",
    "[[1, 2, 3, 4]\n",
    "[5, 6, 7, 8],\n",
    "[9, 10, 11, 12]]'''\n",
    "#importing \n",
    "import numpy as np\n",
    "#given array\n",
    "arr = [[1, 2, 3, 4],[5, 6, 7, 8],[9, 10, 11, 12]]\n",
    "Mat = print(np.mat(arr))\n",
    "#using index method like list to get third  row anf fourth coloumn\n",
    "#store that in x\n",
    "x = arr[2]\n",
    "#printing x\n",
    "print(\"Third row in given matrix is: \",x)"
   ]
  },
  {
   "cell_type": "code",
   "execution_count": 17,
   "id": "ca029650-7c34-42cb-a56f-74a4bf4ee76e",
   "metadata": {},
   "outputs": [
    {
     "data": {
      "text/plain": [
       "array([ 4,  8, 12])"
      ]
     },
     "execution_count": 17,
     "metadata": {},
     "output_type": "execute_result"
    }
   ],
   "source": [
    "#getting fourth column using numpy and slicing \n",
    "np.array(arr)[:,3]"
   ]
  },
  {
   "cell_type": "code",
   "execution_count": 29,
   "id": "75a2ce16-ca4b-4485-bf98-5bf97ba2a198",
   "metadata": {},
   "outputs": [
    {
     "name": "stdout",
     "output_type": "stream",
     "text": [
      "[450 350   0  30]\n"
     ]
    }
   ],
   "source": [
    "#15. What is broa^casting in Numpy?\n",
    "'''The term broadcasting refers to how NumPy treats arrays with different dimensions during arithmetic operations which lead to certain constraints,\n",
    "the smaller array is broadcast across the larger array so that they have compatible shapes'''\n",
    "import numpy as np\n",
    "\n",
    "a = np.array([5, 7, 3, 1])\n",
    "b = np.array([90, 50, 0, 30])\n",
    "\n",
    "# array are compatible because of same Dimension\n",
    "c = a * b\n",
    "print(c)"
   ]
  },
  {
   "cell_type": "code",
   "execution_count": 30,
   "id": "f08ebe1f-3eea-4065-8063-d39c114b3f6b",
   "metadata": {},
   "outputs": [
    {
     "name": "stdout",
     "output_type": "stream",
     "text": [
      "[[11 22 33]\n",
      " [10 20 30]]\n",
      "4\n",
      "[[15 26 37]\n",
      " [14 24 34]]\n"
     ]
    }
   ],
   "source": [
    "import numpy as np\n",
    "A = np.array([[11, 22, 33], [10, 20, 30]])\n",
    "print(A)\n",
    "\n",
    "b = 4\n",
    "print(b)\n",
    "\n",
    "C = A + b\n",
    "print(C)"
   ]
  },
  {
   "cell_type": "code",
   "execution_count": 32,
   "id": "43a67d89-d2c3-42ff-82a2-d0a407bb7f01",
   "metadata": {},
   "outputs": [],
   "source": [
    "#14. What ^oes the np.reshape function ^o, an^ how is it use^?\n",
    "'''reshape() function is used to create a new array of the same size (as the original array)\n",
    "but of different desired dimensions.\n",
    "It uses to convert 1d to nd.'''\n",
    "#importing numpy module as np\n",
    "import numpy as np\n",
    "#creating array using arrange function \n",
    "arr = np.arange(6)"
   ]
  },
  {
   "cell_type": "code",
   "execution_count": 33,
   "id": "4cfc6b75-2876-4ef1-81fb-b9d8311ac197",
   "metadata": {},
   "outputs": [
    {
     "data": {
      "text/plain": [
       "array([0, 1, 2, 3, 4, 5])"
      ]
     },
     "execution_count": 33,
     "metadata": {},
     "output_type": "execute_result"
    }
   ],
   "source": [
    "arr"
   ]
  },
  {
   "cell_type": "code",
   "execution_count": 35,
   "id": "960d2a36-29f3-416c-9c74-25c76af72f68",
   "metadata": {},
   "outputs": [
    {
     "data": {
      "text/plain": [
       "array([[0, 1, 2],\n",
       "       [3, 4, 5]])"
      ]
     },
     "execution_count": 35,
     "metadata": {},
     "output_type": "execute_result"
    }
   ],
   "source": [
    "#using reshape converting array to new array with different dimension\n",
    "arr.reshape(2,3)"
   ]
  },
  {
   "cell_type": "code",
   "execution_count": 43,
   "id": "08574c22-0a55-4d1f-87b0-1d8ec19b93fa",
   "metadata": {},
   "outputs": [
    {
     "name": "stdout",
     "output_type": "stream",
     "text": [
      "[  256     1 25600]\n"
     ]
    }
   ],
   "source": [
    "#12. Which function in Numpy can be use^ to swap the byte or^er of an array?\n",
    "'''numpy.ndarray.byteswap() function toggle between low-endian and big-endian data\n",
    "representation by returning a byteswapped array, optionally swapped in-place.\n",
    "Syntax: ndarray.byteswap(inplace=False)'''\n",
    "\n",
    "# byteswap() function \n",
    "import numpy as np\n",
    "\n",
    "# a is an array of integers. \n",
    "a = np.array([1, 256, 100],dtype = np.int16)\n",
    "\n",
    "print(a.byteswap(True)) \n"
   ]
  },
  {
   "cell_type": "code",
   "execution_count": 39,
   "id": "37386508-bbf8-4943-887f-e6495eb5f7e6",
   "metadata": {},
   "outputs": [
    {
     "data": {
      "text/plain": [
       "dtype('int64')"
      ]
     },
     "execution_count": 39,
     "metadata": {},
     "output_type": "execute_result"
    }
   ],
   "source": [
    "x = np.array([1, 256, 100])\n",
    "x.dtype"
   ]
  },
  {
   "cell_type": "code",
   "execution_count": 50,
   "id": "85d6e938-ed45-46dc-b4a1-63922e0c68ed",
   "metadata": {},
   "outputs": [
    {
     "data": {
      "text/plain": [
       "array([[ 2,  4,  6,  8],\n",
       "       [10, 12, 14, 16],\n",
       "       [18, 20, 22, 24]])"
      ]
     },
     "execution_count": 50,
     "metadata": {},
     "output_type": "execute_result"
    }
   ],
   "source": [
    "'''11. Consi^er the following matrix'''\n",
    "#importing numpy module as np\n",
    "import numpy as np\n",
    "MatrixA = [[1, 2, 3, 4] ,[5, 6, 7, 8],[9, 10, 11, 12]]\n",
    "MatrixB =  [[1, 2, 3, 4] ,[5, 6, 7, 8],[9, 10, 11, 12]]\n",
    "#addition\n",
    "np.add(MatrixA,MatrixB)"
   ]
  },
  {
   "cell_type": "code",
   "execution_count": 53,
   "id": "c8e7cf02-66c0-404c-a9e5-158181c92fc0",
   "metadata": {},
   "outputs": [
    {
     "data": {
      "text/plain": [
       "array([[0, 0, 0, 0],\n",
       "       [0, 0, 0, 0],\n",
       "       [0, 0, 0, 0]])"
      ]
     },
     "execution_count": 53,
     "metadata": {},
     "output_type": "execute_result"
    }
   ],
   "source": [
    "#subtraction\n",
    "np.subtract(MatrixA,MatrixB)"
   ]
  },
  {
   "cell_type": "code",
   "execution_count": 55,
   "id": "838a6dfe-f225-4e6e-808e-98510134fbd5",
   "metadata": {},
   "outputs": [
    {
     "data": {
      "text/plain": [
       "array([[1., 1., 1., 1.],\n",
       "       [1., 1., 1., 1.],\n",
       "       [1., 1., 1., 1.]])"
      ]
     },
     "execution_count": 55,
     "metadata": {},
     "output_type": "execute_result"
    }
   ],
   "source": [
    "#division\n",
    "np.divide(MatrixA,MatrixB)"
   ]
  },
  {
   "cell_type": "code",
   "execution_count": 56,
   "id": "d8d13c30-c6c3-41d5-b7d9-dd9f02a8b9d4",
   "metadata": {},
   "outputs": [
    {
     "data": {
      "text/plain": [
       "array([[  1,   4,   9,  16],\n",
       "       [ 25,  36,  49,  64],\n",
       "       [ 81, 100, 121, 144]])"
      ]
     },
     "execution_count": 56,
     "metadata": {},
     "output_type": "execute_result"
    }
   ],
   "source": [
    "#index multiplication using numpy\n",
    "np.multiply(MatrixA,MatrixB)"
   ]
  },
  {
   "cell_type": "code",
   "execution_count": 57,
   "id": "208f2b7c-9662-4721-9452-965e54a8ba77",
   "metadata": {},
   "outputs": [
    {
     "ename": "ValueError",
     "evalue": "shapes (3,4) and (3,4) not aligned: 4 (dim 1) != 3 (dim 0)",
     "output_type": "error",
     "traceback": [
      "\u001b[0;31m---------------------------------------------------------------------------\u001b[0m",
      "\u001b[0;31mValueError\u001b[0m                                Traceback (most recent call last)",
      "Cell \u001b[0;32mIn[57], line 1\u001b[0m\n\u001b[0;32m----> 1\u001b[0m \u001b[43mnp\u001b[49m\u001b[38;5;241;43m.\u001b[39;49m\u001b[43mdot\u001b[49m\u001b[43m(\u001b[49m\u001b[43mMatrixA\u001b[49m\u001b[43m,\u001b[49m\u001b[43mMatrixB\u001b[49m\u001b[43m)\u001b[49m\n",
      "File \u001b[0;32m<__array_function__ internals>:180\u001b[0m, in \u001b[0;36mdot\u001b[0;34m(*args, **kwargs)\u001b[0m\n",
      "\u001b[0;31mValueError\u001b[0m: shapes (3,4) and (3,4) not aligned: 4 (dim 1) != 3 (dim 0)"
     ]
    }
   ],
   "source": [
    "np.dot(MatrixA,MatrixB)\n",
    "#dot product is possibe in matrix only if no.of coloumns in first matrix\n",
    "#equals to no.of rows in second matricx"
   ]
  },
  {
   "cell_type": "code",
   "execution_count": 59,
   "id": "044585ee-0a73-4c1a-8a24-1b89b574f954",
   "metadata": {},
   "outputs": [
    {
     "name": "stdout",
     "output_type": "stream",
     "text": [
      "[[ 1  2  3  4]\n",
      " [ 5  6  7  8]\n",
      " [ 9 10 11 12]]\n"
     ]
    },
    {
     "data": {
      "text/plain": [
       "array([[ 1,  5,  9],\n",
       "       [ 2,  6, 10],\n",
       "       [ 3,  7, 11],\n",
       "       [ 4,  8, 12]])"
      ]
     },
     "execution_count": 59,
     "metadata": {},
     "output_type": "execute_result"
    }
   ],
   "source": [
    "'''10. How to transpose the following array in NumPy?\n",
    "[[1, 2, 3, 4]\n",
    "[5, 6, 7, 8],\n",
    "[9, 10, 11, 12]]'''\n",
    "#importing numpy module as np\n",
    "import numpy as np\n",
    "arr = np.array([[1, 2, 3, 4],[5, 6, 7, 8],[9, 10, 11, 12]])\n",
    "print(arr)\n",
    "np.transpose(arr)"
   ]
  },
  {
   "cell_type": "code",
   "execution_count": 62,
   "id": "457a2c40-93cf-4594-9d92-8c3cb3260a6b",
   "metadata": {},
   "outputs": [
    {
     "data": {
      "text/plain": [
       "array([[[ 1,  2,  3,  4],\n",
       "        [ 5,  6,  7,  8],\n",
       "        [ 9, 10, 11, 12]]])"
      ]
     },
     "execution_count": 62,
     "metadata": {},
     "output_type": "execute_result"
    }
   ],
   "source": [
    "'''9. Write co^e to increase the ^imension of the following array?\n",
    "[[1, 2, 3, 4]\n",
    "[5, 6, 7, 8],\n",
    "[9, 10, 11, 12]]'''\n",
    "arr = np.array([[1, 2, 3, 4], [5, 6, 7, 8],[9, 10, 11, 12]])\n",
    "np.expand_dims(arr,axis=0)"
   ]
  },
  {
   "cell_type": "code",
   "execution_count": 63,
   "id": "880ffb79-b514-490a-869a-c064f9498ebc",
   "metadata": {},
   "outputs": [
    {
     "data": {
      "text/plain": [
       "array([[0.78476143, 0.076996  , 0.43083358, 0.70982678, 0.4474576 ,\n",
       "        0.63216784],\n",
       "       [0.28728363, 0.08453223, 0.9803063 , 0.91253986, 0.29261766,\n",
       "        0.72499176]])"
      ]
     },
     "execution_count": 63,
     "metadata": {},
     "output_type": "execute_result"
    }
   ],
   "source": [
    "#8. Describe the ^ifference between np.ran^om.ran^ an^ np.ran^om.ran^n?\n",
    "np.random.rand(2,6)\n",
    "'''The numpy.random.rand() function creates an array of specified shapes \n",
    "fills it with random values and generates random numbers with Numpy'''"
   ]
  },
  {
   "cell_type": "code",
   "execution_count": 64,
   "id": "e50bd635-2f9c-4af2-b53b-22acced90f99",
   "metadata": {},
   "outputs": [
    {
     "data": {
      "text/plain": [
       "array([[-1.22035461,  0.27760906, -0.09771579, -0.31305135,  0.49150506,\n",
       "        -0.0827044 ],\n",
       "       [-0.01130475,  0.50550431, -0.21310942,  1.06947151,  2.18998455,\n",
       "         0.91154906]])"
      ]
     },
     "execution_count": 64,
     "metadata": {},
     "output_type": "execute_result"
    }
   ],
   "source": [
    "np.random.randn(2,6)\n",
    "'''NumPy random. randn() function in Python is used to return random values\n",
    "from the normal distribution in a specified shape.'''"
   ]
  },
  {
   "cell_type": "code",
   "execution_count": 65,
   "id": "c194a5fc-91ba-4cb4-87ed-f81d719dd1f5",
   "metadata": {},
   "outputs": [],
   "source": [
    "#7. How can you generate a ran^om 3x3 matrix with values between 0 an^ 1?\n",
    "#using random.randint to generate random numbers\n",
    "x = np.random.randint(0,1, (3,3))"
   ]
  },
  {
   "cell_type": "code",
   "execution_count": 66,
   "id": "89dc76c7-1c8e-416e-aa9c-733e25098684",
   "metadata": {},
   "outputs": [
    {
     "data": {
      "text/plain": [
       "array([[0, 0, 0],\n",
       "       [0, 0, 0],\n",
       "       [0, 0, 0]])"
      ]
     },
     "execution_count": 66,
     "metadata": {},
     "output_type": "execute_result"
    }
   ],
   "source": [
    "x"
   ]
  },
  {
   "cell_type": "code",
   "execution_count": null,
   "id": "73e7dcc2-d654-4275-867f-d464f4cfdc21",
   "metadata": {},
   "outputs": [],
   "source": []
  }
 ],
 "metadata": {
  "kernelspec": {
   "display_name": "Python 3 (ipykernel)",
   "language": "python",
   "name": "python3"
  },
  "language_info": {
   "codemirror_mode": {
    "name": "ipython",
    "version": 3
   },
   "file_extension": ".py",
   "mimetype": "text/x-python",
   "name": "python",
   "nbconvert_exporter": "python",
   "pygments_lexer": "ipython3",
   "version": "3.10.8"
  }
 },
 "nbformat": 4,
 "nbformat_minor": 5
}
